{
 "cells": [
  {
   "cell_type": "code",
   "execution_count": 1,
   "metadata": {},
   "outputs": [],
   "source": [
    "import pandas as pd\n",
    "import numpy as np"
   ]
  },
  {
   "cell_type": "markdown",
   "metadata": {},
   "source": [
    "# Load the raw metrics file"
   ]
  },
  {
   "cell_type": "code",
   "execution_count": 2,
   "metadata": {},
   "outputs": [],
   "source": [
    "filename = \"../data/all_results_9q-square_raw.csv\"\n",
    "df = pd.read_csv(filename)"
   ]
  },
  {
   "cell_type": "code",
   "execution_count": 3,
   "metadata": {
    "scrolled": true
   },
   "outputs": [
    {
     "data": {
      "text/html": [
       "<div>\n",
       "<style scoped>\n",
       "    .dataframe tbody tr th:only-of-type {\n",
       "        vertical-align: middle;\n",
       "    }\n",
       "\n",
       "    .dataframe tbody tr th {\n",
       "        vertical-align: top;\n",
       "    }\n",
       "\n",
       "    .dataframe thead th {\n",
       "        text-align: right;\n",
       "    }\n",
       "</style>\n",
       "<table border=\"1\" class=\"dataframe\">\n",
       "  <thead>\n",
       "    <tr style=\"text-align: right;\">\n",
       "      <th></th>\n",
       "      <th>id</th>\n",
       "      <th>architecture</th>\n",
       "      <th>mode</th>\n",
       "      <th>index</th>\n",
       "      <th>population</th>\n",
       "      <th>n_iterations</th>\n",
       "      <th>crossover</th>\n",
       "      <th>mutation</th>\n",
       "      <th>n_cnots</th>\n",
       "      <th>time</th>\n",
       "      <th>destination_file</th>\n",
       "    </tr>\n",
       "  </thead>\n",
       "  <tbody>\n",
       "    <tr>\n",
       "      <th>0</th>\n",
       "      <td>../circuits/steiner/9qubits/3/Original0.qasm</td>\n",
       "      <td>9q-square</td>\n",
       "      <td>steiner</td>\n",
       "      <td>NaN</td>\n",
       "      <td>NaN</td>\n",
       "      <td>NaN</td>\n",
       "      <td>NaN</td>\n",
       "      <td>NaN</td>\n",
       "      <td>10</td>\n",
       "      <td>0.006540</td>\n",
       "      <td>../circuits/steiner/9qubits/3/9q-square/steine...</td>\n",
       "    </tr>\n",
       "    <tr>\n",
       "      <th>1</th>\n",
       "      <td>../circuits/steiner/9qubits/3/Original1.qasm</td>\n",
       "      <td>9q-square</td>\n",
       "      <td>steiner</td>\n",
       "      <td>NaN</td>\n",
       "      <td>NaN</td>\n",
       "      <td>NaN</td>\n",
       "      <td>NaN</td>\n",
       "      <td>NaN</td>\n",
       "      <td>15</td>\n",
       "      <td>0.010701</td>\n",
       "      <td>../circuits/steiner/9qubits/3/9q-square/steine...</td>\n",
       "    </tr>\n",
       "    <tr>\n",
       "      <th>2</th>\n",
       "      <td>../circuits/steiner/9qubits/3/Original10.qasm</td>\n",
       "      <td>9q-square</td>\n",
       "      <td>steiner</td>\n",
       "      <td>NaN</td>\n",
       "      <td>NaN</td>\n",
       "      <td>NaN</td>\n",
       "      <td>NaN</td>\n",
       "      <td>NaN</td>\n",
       "      <td>27</td>\n",
       "      <td>0.010492</td>\n",
       "      <td>../circuits/steiner/9qubits/3/9q-square/steine...</td>\n",
       "    </tr>\n",
       "    <tr>\n",
       "      <th>3</th>\n",
       "      <td>../circuits/steiner/9qubits/3/Original11.qasm</td>\n",
       "      <td>9q-square</td>\n",
       "      <td>steiner</td>\n",
       "      <td>NaN</td>\n",
       "      <td>NaN</td>\n",
       "      <td>NaN</td>\n",
       "      <td>NaN</td>\n",
       "      <td>NaN</td>\n",
       "      <td>27</td>\n",
       "      <td>0.011411</td>\n",
       "      <td>../circuits/steiner/9qubits/3/9q-square/steine...</td>\n",
       "    </tr>\n",
       "    <tr>\n",
       "      <th>4</th>\n",
       "      <td>../circuits/steiner/9qubits/3/Original12.qasm</td>\n",
       "      <td>9q-square</td>\n",
       "      <td>steiner</td>\n",
       "      <td>NaN</td>\n",
       "      <td>NaN</td>\n",
       "      <td>NaN</td>\n",
       "      <td>NaN</td>\n",
       "      <td>NaN</td>\n",
       "      <td>14</td>\n",
       "      <td>0.009671</td>\n",
       "      <td>../circuits/steiner/9qubits/3/9q-square/steine...</td>\n",
       "    </tr>\n",
       "  </tbody>\n",
       "</table>\n",
       "</div>"
      ],
      "text/plain": [
       "                                              id architecture     mode  index  \\\n",
       "0   ../circuits/steiner/9qubits/3/Original0.qasm    9q-square  steiner    NaN   \n",
       "1   ../circuits/steiner/9qubits/3/Original1.qasm    9q-square  steiner    NaN   \n",
       "2  ../circuits/steiner/9qubits/3/Original10.qasm    9q-square  steiner    NaN   \n",
       "3  ../circuits/steiner/9qubits/3/Original11.qasm    9q-square  steiner    NaN   \n",
       "4  ../circuits/steiner/9qubits/3/Original12.qasm    9q-square  steiner    NaN   \n",
       "\n",
       "   population  n_iterations  crossover  mutation  n_cnots      time  \\\n",
       "0         NaN           NaN        NaN       NaN       10  0.006540   \n",
       "1         NaN           NaN        NaN       NaN       15  0.010701   \n",
       "2         NaN           NaN        NaN       NaN       27  0.010492   \n",
       "3         NaN           NaN        NaN       NaN       27  0.011411   \n",
       "4         NaN           NaN        NaN       NaN       14  0.009671   \n",
       "\n",
       "                                    destination_file  \n",
       "0  ../circuits/steiner/9qubits/3/9q-square/steine...  \n",
       "1  ../circuits/steiner/9qubits/3/9q-square/steine...  \n",
       "2  ../circuits/steiner/9qubits/3/9q-square/steine...  \n",
       "3  ../circuits/steiner/9qubits/3/9q-square/steine...  \n",
       "4  ../circuits/steiner/9qubits/3/9q-square/steine...  "
      ]
     },
     "execution_count": 3,
     "metadata": {},
     "output_type": "execute_result"
    }
   ],
   "source": [
    "df.head()"
   ]
  },
  {
   "cell_type": "markdown",
   "metadata": {},
   "source": [
    "# Preprocessing\n",
    "Specify which parameters to use.\n",
    "You can select multiple in a list to compare them with each other."
   ]
  },
  {
   "cell_type": "code",
   "execution_count": 4,
   "metadata": {},
   "outputs": [],
   "source": [
    "architectures = [\"9q-square\"]\n",
    "modes = [\"steiner\", \"genetic_steiner\", \"quilc\"]\n",
    "populations = [30]\n",
    "iterations = [15]\n",
    "crossovers = [0.8]\n",
    "mutations = [0.2]"
   ]
  },
  {
   "cell_type": "markdown",
   "metadata": {},
   "source": [
    "Remove all rows from the csv that do not conform to the specified parameters."
   ]
  },
  {
   "cell_type": "code",
   "execution_count": 5,
   "metadata": {},
   "outputs": [],
   "source": [
    "df2 = df[df[\"architecture\"].isin(architectures)]\n",
    "df2 = df2[df2[\"mode\"].isin(modes)]\n",
    "\n",
    "if \"genetic_steiner\" in modes or \"genetic_gauss\" in modes:\n",
    "    df2 = df2[df2[\"population\"].isnull() | df2[\"population\"].isin(populations)]\n",
    "    df2 = df2[df2[\"n_iterations\"].isnull() | df2[\"n_iterations\"].isin(iterations)]\n",
    "    df2 = df2[df2[\"crossover\"].isnull() | df2[\"crossover\"].isin(crossovers)]\n",
    "    df2 = df2[df2[\"mutation\"].isnull() | df2[\"mutation\"].isin(mutations)]"
   ]
  },
  {
   "cell_type": "markdown",
   "metadata": {},
   "source": [
    "Add depth information from the folder structure in the id filename."
   ]
  },
  {
   "cell_type": "code",
   "execution_count": 6,
   "metadata": {},
   "outputs": [],
   "source": [
    "df2[\"depth\"] = df2[\"id\"].apply(lambda x: int(x.split(\"/\")[4]))"
   ]
  },
  {
   "cell_type": "markdown",
   "metadata": {},
   "source": [
    "# Aggregate the data"
   ]
  },
  {
   "cell_type": "markdown",
   "metadata": {},
   "source": [
    "Fill up the NaN values in the table with -1 for grouping"
   ]
  },
  {
   "cell_type": "code",
   "execution_count": 7,
   "metadata": {},
   "outputs": [],
   "source": [
    "df2 = df2.fillna(-1)"
   ]
  },
  {
   "cell_type": "markdown",
   "metadata": {},
   "source": [
    "Aggregate the multiple compilations from quilc for each file by picking the circuit with the lowest n_cnots score."
   ]
  },
  {
   "cell_type": "code",
   "execution_count": 8,
   "metadata": {},
   "outputs": [],
   "source": [
    "quil_group = df2.groupby([\"id\", \"architecture\", \"mode\", \"population\", \"n_iterations\", \"crossover\", \"mutation\"])\n",
    "df3 = df2.loc[quil_group.idxmin()[\"n_cnots\"]].drop(\"index\", axis=1)"
   ]
  },
  {
   "cell_type": "markdown",
   "metadata": {},
   "source": [
    "Calculate the mean and median metrics per combination of mode, depth"
   ]
  },
  {
   "cell_type": "code",
   "execution_count": 9,
   "metadata": {},
   "outputs": [],
   "source": [
    "# Calculate the mean and median gate count\n",
    "grouped = df3.groupby([\"mode\", \"depth\", \"population\", \"n_iterations\", \"crossover\", \"mutation\"])\n",
    "means = grouped.mean()\n",
    "medians = grouped.median().reindex(means.index)"
   ]
  },
  {
   "cell_type": "markdown",
   "metadata": {},
   "source": [
    "Combine the results in an easily readable format"
   ]
  },
  {
   "cell_type": "code",
   "execution_count": 10,
   "metadata": {
    "scrolled": true
   },
   "outputs": [],
   "source": [
    "# Combine the mean gate counts to a single table.\n",
    "depths = means.index.levels[1].values\n",
    "modes = means.index.levels[0].values\n",
    "indices = [i for i in range(len(means.index.levels)) if means.index.levels[i].name != \"depth\"]\n",
    "names = [means.index.levels[i].name for i in indices]\n",
    "metrics = [\"n_cnots\", \"time\"]\n",
    "combined_df = None\n",
    "for i in depths:\n",
    "    query = \"depth == \" + str(i)\n",
    "    mean_query_results = means.query(query)\n",
    "    median_query_results = medians.query(query)\n",
    "    result = {mean_query_results.index.levels[i].name:[v[i] for v in mean_query_results.index.values] for i in indices}\n",
    "    for metric in metrics:\n",
    "        result[query + \":mean:\" + metric] = mean_query_results[metric].values\n",
    "        result[query + \":median:\" + metric] = median_query_results[metric].values\n",
    "    result_df = pd.DataFrame(result).set_index(names)\n",
    "    result_df.columns = pd.MultiIndex.from_tuples([tuple(c.split(\":\")) for c in result_df.columns])\n",
    "    if combined_df is None:\n",
    "        combined_df = result_df\n",
    "    else:\n",
    "        combined_df = combined_df.join(result_df)"
   ]
  },
  {
   "cell_type": "markdown",
   "metadata": {},
   "source": [
    "# Visualize the table"
   ]
  },
  {
   "cell_type": "markdown",
   "metadata": {},
   "source": [
    "Define how to color the table"
   ]
  },
  {
   "cell_type": "code",
   "execution_count": 11,
   "metadata": {},
   "outputs": [],
   "source": [
    "def highlight_cnots(s):\n",
    "    '''\n",
    "    highlight the best cnot counts in a Series.\n",
    "    '''\n",
    "    if s.name[-1] == \"n_cnots\":\n",
    "        depth = int(s.name[0].split(\" \")[-1])\n",
    "        def color_func(v):\n",
    "            if v <= depth:\n",
    "                return \"green\"\n",
    "            elif v <= 1.5*depth:\n",
    "                return \"cyan\"\n",
    "            elif v <= 2*depth:\n",
    "                return \"yellow\"\n",
    "            else:\n",
    "                return \"white\"\n",
    "        return [\"background-color: \" + color_func(v) for v in s]\n",
    "    else:\n",
    "        return ['' for v in s]"
   ]
  },
  {
   "cell_type": "markdown",
   "metadata": {},
   "source": [
    "Show the colored table"
   ]
  },
  {
   "cell_type": "code",
   "execution_count": 12,
   "metadata": {},
   "outputs": [
    {
     "data": {
      "text/html": [
       "<style  type=\"text/css\" >\n",
       "    #T_defe8bfc_4fe1_11e9_b8be_4c72b9daf298row0_col0 {\n",
       "            background-color:  green;\n",
       "        }    #T_defe8bfc_4fe1_11e9_b8be_4c72b9daf298row0_col1 {\n",
       "            background-color:  green;\n",
       "        }    #T_defe8bfc_4fe1_11e9_b8be_4c72b9daf298row0_col4 {\n",
       "            background-color:  cyan;\n",
       "        }    #T_defe8bfc_4fe1_11e9_b8be_4c72b9daf298row0_col5 {\n",
       "            background-color:  green;\n",
       "        }    #T_defe8bfc_4fe1_11e9_b8be_4c72b9daf298row0_col8 {\n",
       "            background-color:  cyan;\n",
       "        }    #T_defe8bfc_4fe1_11e9_b8be_4c72b9daf298row0_col9 {\n",
       "            background-color:  cyan;\n",
       "        }    #T_defe8bfc_4fe1_11e9_b8be_4c72b9daf298row0_col12 {\n",
       "            background-color:  cyan;\n",
       "        }    #T_defe8bfc_4fe1_11e9_b8be_4c72b9daf298row0_col13 {\n",
       "            background-color:  cyan;\n",
       "        }    #T_defe8bfc_4fe1_11e9_b8be_4c72b9daf298row0_col16 {\n",
       "            background-color:  cyan;\n",
       "        }    #T_defe8bfc_4fe1_11e9_b8be_4c72b9daf298row0_col17 {\n",
       "            background-color:  cyan;\n",
       "        }    #T_defe8bfc_4fe1_11e9_b8be_4c72b9daf298row1_col0 {\n",
       "            background-color:  cyan;\n",
       "        }    #T_defe8bfc_4fe1_11e9_b8be_4c72b9daf298row1_col1 {\n",
       "            background-color:  green;\n",
       "        }    #T_defe8bfc_4fe1_11e9_b8be_4c72b9daf298row1_col4 {\n",
       "            background-color:  white;\n",
       "        }    #T_defe8bfc_4fe1_11e9_b8be_4c72b9daf298row1_col5 {\n",
       "            background-color:  white;\n",
       "        }    #T_defe8bfc_4fe1_11e9_b8be_4c72b9daf298row1_col8 {\n",
       "            background-color:  yellow;\n",
       "        }    #T_defe8bfc_4fe1_11e9_b8be_4c72b9daf298row1_col9 {\n",
       "            background-color:  yellow;\n",
       "        }    #T_defe8bfc_4fe1_11e9_b8be_4c72b9daf298row1_col12 {\n",
       "            background-color:  white;\n",
       "        }    #T_defe8bfc_4fe1_11e9_b8be_4c72b9daf298row1_col13 {\n",
       "            background-color:  white;\n",
       "        }    #T_defe8bfc_4fe1_11e9_b8be_4c72b9daf298row1_col16 {\n",
       "            background-color:  white;\n",
       "        }    #T_defe8bfc_4fe1_11e9_b8be_4c72b9daf298row1_col17 {\n",
       "            background-color:  white;\n",
       "        }    #T_defe8bfc_4fe1_11e9_b8be_4c72b9daf298row2_col0 {\n",
       "            background-color:  white;\n",
       "        }    #T_defe8bfc_4fe1_11e9_b8be_4c72b9daf298row2_col1 {\n",
       "            background-color:  white;\n",
       "        }    #T_defe8bfc_4fe1_11e9_b8be_4c72b9daf298row2_col4 {\n",
       "            background-color:  white;\n",
       "        }    #T_defe8bfc_4fe1_11e9_b8be_4c72b9daf298row2_col5 {\n",
       "            background-color:  white;\n",
       "        }    #T_defe8bfc_4fe1_11e9_b8be_4c72b9daf298row2_col8 {\n",
       "            background-color:  white;\n",
       "        }    #T_defe8bfc_4fe1_11e9_b8be_4c72b9daf298row2_col9 {\n",
       "            background-color:  white;\n",
       "        }    #T_defe8bfc_4fe1_11e9_b8be_4c72b9daf298row2_col12 {\n",
       "            background-color:  white;\n",
       "        }    #T_defe8bfc_4fe1_11e9_b8be_4c72b9daf298row2_col13 {\n",
       "            background-color:  white;\n",
       "        }    #T_defe8bfc_4fe1_11e9_b8be_4c72b9daf298row2_col16 {\n",
       "            background-color:  yellow;\n",
       "        }    #T_defe8bfc_4fe1_11e9_b8be_4c72b9daf298row2_col17 {\n",
       "            background-color:  yellow;\n",
       "        }</style><table id=\"T_defe8bfc_4fe1_11e9_b8be_4c72b9daf298\" ><thead>    <tr>        <th class=\"blank\" ></th>        <th class=\"blank\" ></th>        <th class=\"blank\" ></th>        <th class=\"blank\" ></th>        <th class=\"blank level0\" ></th>        <th class=\"col_heading level0 col0\" colspan=4>depth == 3</th>        <th class=\"col_heading level0 col4\" colspan=4>depth == 5</th>        <th class=\"col_heading level0 col8\" colspan=4>depth == 10</th>        <th class=\"col_heading level0 col12\" colspan=4>depth == 20</th>        <th class=\"col_heading level0 col16\" colspan=4>depth == 30</th>    </tr>    <tr>        <th class=\"blank\" ></th>        <th class=\"blank\" ></th>        <th class=\"blank\" ></th>        <th class=\"blank\" ></th>        <th class=\"blank level1\" ></th>        <th class=\"col_heading level1 col0\" >mean</th>        <th class=\"col_heading level1 col1\" >median</th>        <th class=\"col_heading level1 col2\" >mean</th>        <th class=\"col_heading level1 col3\" >median</th>        <th class=\"col_heading level1 col4\" >mean</th>        <th class=\"col_heading level1 col5\" >median</th>        <th class=\"col_heading level1 col6\" >mean</th>        <th class=\"col_heading level1 col7\" >median</th>        <th class=\"col_heading level1 col8\" >mean</th>        <th class=\"col_heading level1 col9\" >median</th>        <th class=\"col_heading level1 col10\" >mean</th>        <th class=\"col_heading level1 col11\" >median</th>        <th class=\"col_heading level1 col12\" >mean</th>        <th class=\"col_heading level1 col13\" >median</th>        <th class=\"col_heading level1 col14\" >mean</th>        <th class=\"col_heading level1 col15\" >median</th>        <th class=\"col_heading level1 col16\" >mean</th>        <th class=\"col_heading level1 col17\" >median</th>        <th class=\"col_heading level1 col18\" >mean</th>        <th class=\"col_heading level1 col19\" >median</th>    </tr>    <tr>        <th class=\"blank\" ></th>        <th class=\"blank\" ></th>        <th class=\"blank\" ></th>        <th class=\"blank\" ></th>        <th class=\"blank level2\" ></th>        <th class=\"col_heading level2 col0\" >n_cnots</th>        <th class=\"col_heading level2 col1\" >n_cnots</th>        <th class=\"col_heading level2 col2\" >time</th>        <th class=\"col_heading level2 col3\" >time</th>        <th class=\"col_heading level2 col4\" >n_cnots</th>        <th class=\"col_heading level2 col5\" >n_cnots</th>        <th class=\"col_heading level2 col6\" >time</th>        <th class=\"col_heading level2 col7\" >time</th>        <th class=\"col_heading level2 col8\" >n_cnots</th>        <th class=\"col_heading level2 col9\" >n_cnots</th>        <th class=\"col_heading level2 col10\" >time</th>        <th class=\"col_heading level2 col11\" >time</th>        <th class=\"col_heading level2 col12\" >n_cnots</th>        <th class=\"col_heading level2 col13\" >n_cnots</th>        <th class=\"col_heading level2 col14\" >time</th>        <th class=\"col_heading level2 col15\" >time</th>        <th class=\"col_heading level2 col16\" >n_cnots</th>        <th class=\"col_heading level2 col17\" >n_cnots</th>        <th class=\"col_heading level2 col18\" >time</th>        <th class=\"col_heading level2 col19\" >time</th>    </tr>    <tr>        <th class=\"index_name level0\" >mode</th>        <th class=\"index_name level1\" >population</th>        <th class=\"index_name level2\" >n_iterations</th>        <th class=\"index_name level3\" >crossover</th>        <th class=\"index_name level4\" >mutation</th>        <th class=\"blank\" ></th>        <th class=\"blank\" ></th>        <th class=\"blank\" ></th>        <th class=\"blank\" ></th>        <th class=\"blank\" ></th>        <th class=\"blank\" ></th>        <th class=\"blank\" ></th>        <th class=\"blank\" ></th>        <th class=\"blank\" ></th>        <th class=\"blank\" ></th>        <th class=\"blank\" ></th>        <th class=\"blank\" ></th>        <th class=\"blank\" ></th>        <th class=\"blank\" ></th>        <th class=\"blank\" ></th>        <th class=\"blank\" ></th>        <th class=\"blank\" ></th>        <th class=\"blank\" ></th>        <th class=\"blank\" ></th>        <th class=\"blank\" ></th>    </tr></thead><tbody>\n",
       "                <tr>\n",
       "                        <th id=\"T_defe8bfc_4fe1_11e9_b8be_4c72b9daf298level0_row0\" class=\"row_heading level0 row0\" >genetic_steiner</th>\n",
       "                        <th id=\"T_defe8bfc_4fe1_11e9_b8be_4c72b9daf298level1_row0\" class=\"row_heading level1 row0\" >30.0</th>\n",
       "                        <th id=\"T_defe8bfc_4fe1_11e9_b8be_4c72b9daf298level2_row0\" class=\"row_heading level2 row0\" >15.0</th>\n",
       "                        <th id=\"T_defe8bfc_4fe1_11e9_b8be_4c72b9daf298level3_row0\" class=\"row_heading level3 row0\" >0.8</th>\n",
       "                        <th id=\"T_defe8bfc_4fe1_11e9_b8be_4c72b9daf298level4_row0\" class=\"row_heading level4 row0\" >0.2</th>\n",
       "                        <td id=\"T_defe8bfc_4fe1_11e9_b8be_4c72b9daf298row0_col0\" class=\"data row0 col0\" >3</td>\n",
       "                        <td id=\"T_defe8bfc_4fe1_11e9_b8be_4c72b9daf298row0_col1\" class=\"data row0 col1\" >3</td>\n",
       "                        <td id=\"T_defe8bfc_4fe1_11e9_b8be_4c72b9daf298row0_col2\" class=\"data row0 col2\" >0.435124</td>\n",
       "                        <td id=\"T_defe8bfc_4fe1_11e9_b8be_4c72b9daf298row0_col3\" class=\"data row0 col3\" >0.435141</td>\n",
       "                        <td id=\"T_defe8bfc_4fe1_11e9_b8be_4c72b9daf298row0_col4\" class=\"data row0 col4\" >5.2</td>\n",
       "                        <td id=\"T_defe8bfc_4fe1_11e9_b8be_4c72b9daf298row0_col5\" class=\"data row0 col5\" >5</td>\n",
       "                        <td id=\"T_defe8bfc_4fe1_11e9_b8be_4c72b9daf298row0_col6\" class=\"data row0 col6\" >0.54514</td>\n",
       "                        <td id=\"T_defe8bfc_4fe1_11e9_b8be_4c72b9daf298row0_col7\" class=\"data row0 col7\" >0.551535</td>\n",
       "                        <td id=\"T_defe8bfc_4fe1_11e9_b8be_4c72b9daf298row0_col8\" class=\"data row0 col8\" >11.6</td>\n",
       "                        <td id=\"T_defe8bfc_4fe1_11e9_b8be_4c72b9daf298row0_col9\" class=\"data row0 col9\" >12</td>\n",
       "                        <td id=\"T_defe8bfc_4fe1_11e9_b8be_4c72b9daf298row0_col10\" class=\"data row0 col10\" >0.719777</td>\n",
       "                        <td id=\"T_defe8bfc_4fe1_11e9_b8be_4c72b9daf298row0_col11\" class=\"data row0 col11\" >0.718161</td>\n",
       "                        <td id=\"T_defe8bfc_4fe1_11e9_b8be_4c72b9daf298row0_col12\" class=\"data row0 col12\" >25.85</td>\n",
       "                        <td id=\"T_defe8bfc_4fe1_11e9_b8be_4c72b9daf298row0_col13\" class=\"data row0 col13\" >26</td>\n",
       "                        <td id=\"T_defe8bfc_4fe1_11e9_b8be_4c72b9daf298row0_col14\" class=\"data row0 col14\" >1.03583</td>\n",
       "                        <td id=\"T_defe8bfc_4fe1_11e9_b8be_4c72b9daf298row0_col15\" class=\"data row0 col15\" >1.03526</td>\n",
       "                        <td id=\"T_defe8bfc_4fe1_11e9_b8be_4c72b9daf298row0_col16\" class=\"data row0 col16\" >35.55</td>\n",
       "                        <td id=\"T_defe8bfc_4fe1_11e9_b8be_4c72b9daf298row0_col17\" class=\"data row0 col17\" >36</td>\n",
       "                        <td id=\"T_defe8bfc_4fe1_11e9_b8be_4c72b9daf298row0_col18\" class=\"data row0 col18\" >1.3915</td>\n",
       "                        <td id=\"T_defe8bfc_4fe1_11e9_b8be_4c72b9daf298row0_col19\" class=\"data row0 col19\" >1.25276</td>\n",
       "            </tr>\n",
       "            <tr>\n",
       "                        <th id=\"T_defe8bfc_4fe1_11e9_b8be_4c72b9daf298level0_row1\" class=\"row_heading level0 row1\" >quilc</th>\n",
       "                        <th id=\"T_defe8bfc_4fe1_11e9_b8be_4c72b9daf298level1_row1\" class=\"row_heading level1 row1\" >-1.0</th>\n",
       "                        <th id=\"T_defe8bfc_4fe1_11e9_b8be_4c72b9daf298level2_row1\" class=\"row_heading level2 row1\" >-1.0</th>\n",
       "                        <th id=\"T_defe8bfc_4fe1_11e9_b8be_4c72b9daf298level3_row1\" class=\"row_heading level3 row1\" >-1.0</th>\n",
       "                        <th id=\"T_defe8bfc_4fe1_11e9_b8be_4c72b9daf298level4_row1\" class=\"row_heading level4 row1\" >-1.0</th>\n",
       "                        <td id=\"T_defe8bfc_4fe1_11e9_b8be_4c72b9daf298row1_col0\" class=\"data row1 col0\" >3.8</td>\n",
       "                        <td id=\"T_defe8bfc_4fe1_11e9_b8be_4c72b9daf298row1_col1\" class=\"data row1 col1\" >3</td>\n",
       "                        <td id=\"T_defe8bfc_4fe1_11e9_b8be_4c72b9daf298row1_col2\" class=\"data row1 col2\" >0.358609</td>\n",
       "                        <td id=\"T_defe8bfc_4fe1_11e9_b8be_4c72b9daf298row1_col3\" class=\"data row1 col3\" >0.262603</td>\n",
       "                        <td id=\"T_defe8bfc_4fe1_11e9_b8be_4c72b9daf298row1_col4\" class=\"data row1 col4\" >10.5</td>\n",
       "                        <td id=\"T_defe8bfc_4fe1_11e9_b8be_4c72b9daf298row1_col5\" class=\"data row1 col5\" >11</td>\n",
       "                        <td id=\"T_defe8bfc_4fe1_11e9_b8be_4c72b9daf298row1_col6\" class=\"data row1 col6\" >0.6061</td>\n",
       "                        <td id=\"T_defe8bfc_4fe1_11e9_b8be_4c72b9daf298row1_col7\" class=\"data row1 col7\" >0.602104</td>\n",
       "                        <td id=\"T_defe8bfc_4fe1_11e9_b8be_4c72b9daf298row1_col8\" class=\"data row1 col8\" >18.8</td>\n",
       "                        <td id=\"T_defe8bfc_4fe1_11e9_b8be_4c72b9daf298row1_col9\" class=\"data row1 col9\" >18</td>\n",
       "                        <td id=\"T_defe8bfc_4fe1_11e9_b8be_4c72b9daf298row1_col10\" class=\"data row1 col10\" >0.943895</td>\n",
       "                        <td id=\"T_defe8bfc_4fe1_11e9_b8be_4c72b9daf298row1_col11\" class=\"data row1 col11\" >0.939545</td>\n",
       "                        <td id=\"T_defe8bfc_4fe1_11e9_b8be_4c72b9daf298row1_col12\" class=\"data row1 col12\" >44.25</td>\n",
       "                        <td id=\"T_defe8bfc_4fe1_11e9_b8be_4c72b9daf298row1_col13\" class=\"data row1 col13\" >44.5</td>\n",
       "                        <td id=\"T_defe8bfc_4fe1_11e9_b8be_4c72b9daf298row1_col14\" class=\"data row1 col14\" >2.4333</td>\n",
       "                        <td id=\"T_defe8bfc_4fe1_11e9_b8be_4c72b9daf298row1_col15\" class=\"data row1 col15\" >2.19947</td>\n",
       "                        <td id=\"T_defe8bfc_4fe1_11e9_b8be_4c72b9daf298row1_col16\" class=\"data row1 col16\" >67.5</td>\n",
       "                        <td id=\"T_defe8bfc_4fe1_11e9_b8be_4c72b9daf298row1_col17\" class=\"data row1 col17\" >66.5</td>\n",
       "                        <td id=\"T_defe8bfc_4fe1_11e9_b8be_4c72b9daf298row1_col18\" class=\"data row1 col18\" >3.42532</td>\n",
       "                        <td id=\"T_defe8bfc_4fe1_11e9_b8be_4c72b9daf298row1_col19\" class=\"data row1 col19\" >3.28078</td>\n",
       "            </tr>\n",
       "            <tr>\n",
       "                        <th id=\"T_defe8bfc_4fe1_11e9_b8be_4c72b9daf298level0_row2\" class=\"row_heading level0 row2\" >steiner</th>\n",
       "                        <th id=\"T_defe8bfc_4fe1_11e9_b8be_4c72b9daf298level1_row2\" class=\"row_heading level1 row2\" >-1.0</th>\n",
       "                        <th id=\"T_defe8bfc_4fe1_11e9_b8be_4c72b9daf298level2_row2\" class=\"row_heading level2 row2\" >-1.0</th>\n",
       "                        <th id=\"T_defe8bfc_4fe1_11e9_b8be_4c72b9daf298level3_row2\" class=\"row_heading level3 row2\" >-1.0</th>\n",
       "                        <th id=\"T_defe8bfc_4fe1_11e9_b8be_4c72b9daf298level4_row2\" class=\"row_heading level4 row2\" >-1.0</th>\n",
       "                        <td id=\"T_defe8bfc_4fe1_11e9_b8be_4c72b9daf298row2_col0\" class=\"data row2 col0\" >11.7</td>\n",
       "                        <td id=\"T_defe8bfc_4fe1_11e9_b8be_4c72b9daf298row2_col1\" class=\"data row2 col1\" >10.5</td>\n",
       "                        <td id=\"T_defe8bfc_4fe1_11e9_b8be_4c72b9daf298row2_col2\" class=\"data row2 col2\" >0.00962509</td>\n",
       "                        <td id=\"T_defe8bfc_4fe1_11e9_b8be_4c72b9daf298row2_col3\" class=\"data row2 col3\" >0.00965548</td>\n",
       "                        <td id=\"T_defe8bfc_4fe1_11e9_b8be_4c72b9daf298row2_col4\" class=\"data row2 col4\" >20.3</td>\n",
       "                        <td id=\"T_defe8bfc_4fe1_11e9_b8be_4c72b9daf298row2_col5\" class=\"data row2 col5\" >20</td>\n",
       "                        <td id=\"T_defe8bfc_4fe1_11e9_b8be_4c72b9daf298row2_col6\" class=\"data row2 col6\" >0.0195244</td>\n",
       "                        <td id=\"T_defe8bfc_4fe1_11e9_b8be_4c72b9daf298row2_col7\" class=\"data row2 col7\" >0.0162907</td>\n",
       "                        <td id=\"T_defe8bfc_4fe1_11e9_b8be_4c72b9daf298row2_col8\" class=\"data row2 col8\" >33.2</td>\n",
       "                        <td id=\"T_defe8bfc_4fe1_11e9_b8be_4c72b9daf298row2_col9\" class=\"data row2 col9\" >31</td>\n",
       "                        <td id=\"T_defe8bfc_4fe1_11e9_b8be_4c72b9daf298row2_col10\" class=\"data row2 col10\" >0.020873</td>\n",
       "                        <td id=\"T_defe8bfc_4fe1_11e9_b8be_4c72b9daf298row2_col11\" class=\"data row2 col11\" >0.0179547</td>\n",
       "                        <td id=\"T_defe8bfc_4fe1_11e9_b8be_4c72b9daf298row2_col12\" class=\"data row2 col12\" >49.2</td>\n",
       "                        <td id=\"T_defe8bfc_4fe1_11e9_b8be_4c72b9daf298row2_col13\" class=\"data row2 col13\" >50</td>\n",
       "                        <td id=\"T_defe8bfc_4fe1_11e9_b8be_4c72b9daf298row2_col14\" class=\"data row2 col14\" >0.0274642</td>\n",
       "                        <td id=\"T_defe8bfc_4fe1_11e9_b8be_4c72b9daf298row2_col15\" class=\"data row2 col15\" >0.0216038</td>\n",
       "                        <td id=\"T_defe8bfc_4fe1_11e9_b8be_4c72b9daf298row2_col16\" class=\"data row2 col16\" >54.15</td>\n",
       "                        <td id=\"T_defe8bfc_4fe1_11e9_b8be_4c72b9daf298row2_col17\" class=\"data row2 col17\" >56</td>\n",
       "                        <td id=\"T_defe8bfc_4fe1_11e9_b8be_4c72b9daf298row2_col18\" class=\"data row2 col18\" >0.0258112</td>\n",
       "                        <td id=\"T_defe8bfc_4fe1_11e9_b8be_4c72b9daf298row2_col19\" class=\"data row2 col19\" >0.0223107</td>\n",
       "            </tr>\n",
       "    </tbody></table>"
      ],
      "text/plain": [
       "<pandas.io.formats.style.Styler at 0x7f2f841854e0>"
      ]
     },
     "execution_count": 12,
     "metadata": {},
     "output_type": "execute_result"
    }
   ],
   "source": [
    "combined_df.style.apply(highlight_cnots)"
   ]
  },
  {
   "cell_type": "markdown",
   "metadata": {},
   "source": [
    "# Store the results\n",
    "Specify the filename:"
   ]
  },
  {
   "cell_type": "code",
   "execution_count": 13,
   "metadata": {},
   "outputs": [],
   "source": [
    "destination_file = \"../data/9q-square_results.csv\""
   ]
  },
  {
   "cell_type": "markdown",
   "metadata": {},
   "source": [
    "And store the dataframe to csv with practical column names."
   ]
  },
  {
   "cell_type": "code",
   "execution_count": 14,
   "metadata": {},
   "outputs": [],
   "source": [
    "temp_columns = combined_df.columns\n",
    "combined_df.columns = [\"_\".join(c)[len(\"depth == \"):] for c in zip(*[combined_df.columns.get_level_values(i) for i in range(3)])]\n",
    "combined_df.to_csv(destination_file)\n",
    "combined_df.columns = temp_columns"
   ]
  }
 ],
 "metadata": {
  "kernelspec": {
   "display_name": "Python 3",
   "language": "python",
   "name": "python3"
  },
  "language_info": {
   "codemirror_mode": {
    "name": "ipython",
    "version": 3
   },
   "file_extension": ".py",
   "mimetype": "text/x-python",
   "name": "python",
   "nbconvert_exporter": "python",
   "pygments_lexer": "ipython3",
   "version": "3.6.8"
  }
 },
 "nbformat": 4,
 "nbformat_minor": 1
}
